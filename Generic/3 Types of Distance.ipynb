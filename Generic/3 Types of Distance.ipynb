{
 "cells": [
  {
   "cell_type": "markdown",
   "metadata": {},
   "source": [
    "## 1. Euclidean Distance\n",
    "\n",
    "It is also called Straight Line Distance. Straight Line Distance between two points using it's x and y coordinate. \n",
    "\n",
    "Euclidean distance or Euclidean metric is the distance between two points in Euclidean space. With this distance, Euclidean space becomes a metric space. The associated norm is called the Euclidean norm.\n",
    "\n",
    "$$dist(A, B) = \\sqrt {(x_{A} - x_{B})^2 + (y_{A} - y_{B})^2} $$\n",
    "\n",
    "<img src=\"images/euclidean_distance.png\" width=\"300px\">"
   ]
  },
  {
   "cell_type": "markdown",
   "metadata": {},
   "source": [
    "__First Method Using Math Library__"
   ]
  },
  {
   "cell_type": "code",
   "execution_count": 5,
   "metadata": {},
   "outputs": [
    {
     "name": "stdout",
     "output_type": "stream",
     "text": [
      "Euclidean distance from x to y:  4.69041575982343\n"
     ]
    }
   ],
   "source": [
    "import math\n",
    "x = (5, 6, 7)\n",
    "y = (8, 9, 9)\n",
    "distance = math.sqrt(sum([(a - b) ** 2 for a, b in zip(x, y)]))\n",
    "print(\"Euclidean distance from x to y: \",distance)"
   ]
  },
  {
   "cell_type": "markdown",
   "metadata": {},
   "source": [
    "__Second Method Using Scipy Library__"
   ]
  },
  {
   "cell_type": "code",
   "execution_count": 3,
   "metadata": {},
   "outputs": [
    {
     "name": "stdout",
     "output_type": "stream",
     "text": [
      "Euclidean distance:  4.69041575982343\n"
     ]
    }
   ],
   "source": [
    "from scipy.spatial import distance\n",
    "p1 = (5, 6, 7)\n",
    "p2 = (8, 9, 9)\n",
    "d = distance.euclidean(p1, p2)\n",
    "print(\"Euclidean distance: \",d)"
   ]
  },
  {
   "cell_type": "markdown",
   "metadata": {},
   "source": [
    "## 2. L1 Distance\n",
    "It is also called City block distance, Manhattan Distance, Taxicab Distance, Rectilinear Distance, Snake Distance. \n",
    "\n",
    "L1 Distance measures city block distance: distance along straight lines only. \n",
    "\n",
    "$$ dist(A, B) = |x_{A} - x_{B}| - |y_{A} - y_{B}| $$\n",
    "\n",
    "<img src=\"images/l1_distance.png\" width=\"300px\">"
   ]
  },
  {
   "cell_type": "code",
   "execution_count": 4,
   "metadata": {},
   "outputs": [
    {
     "data": {
      "text/plain": [
       "array([[8.]])"
      ]
     },
     "execution_count": 4,
     "metadata": {},
     "output_type": "execute_result"
    }
   ],
   "source": [
    "from sklearn.metrics.pairwise import manhattan_distances\n",
    "manhattan_distances([[5, 6, 7]], [[8, 9, 9]])"
   ]
  },
  {
   "cell_type": "markdown",
   "metadata": {},
   "source": [
    "## Chebyshev Distance\n",
    "\n",
    "It is also called L Infinity Distance. \n",
    "The most intuitive understanding of Chebyshev Distance is movement of King on a chessboard. \n",
    "It is different from L1 Distance because in Chebyshev Distance, we count a vertical movement as one step while in L1 Distance, we count a vertical movement as 2 steps. \n",
    "\n",
    "It is also different from Euclidean Distance because a vertical movement in Euclidean Distance has a distance of $$ \\sqrt { (x^2 + y^2)} $$\n",
    "\n",
    "Chebyshev Distance = dist(A, B) = \n",
    "\n",
    "\n",
    "$$ max(|x_{A} - x_{B}|, |{y_{A} - y_{B}|) $$\n",
    "\n",
    "<img src=\"images/chebyshev_distance.png\" width=\"300px\">"
   ]
  },
  {
   "cell_type": "markdown",
   "metadata": {},
   "source": [
    "## Comparing the 3 Types of Distance\n",
    "\n",
    "<img src=\"images/comparison_distance.png\" width=\"400px\">"
   ]
  },
  {
   "cell_type": "code",
   "execution_count": null,
   "metadata": {},
   "outputs": [],
   "source": []
  }
 ],
 "metadata": {
  "kernelspec": {
   "display_name": "Python 3",
   "language": "python",
   "name": "python3"
  },
  "language_info": {
   "codemirror_mode": {
    "name": "ipython",
    "version": 3
   },
   "file_extension": ".py",
   "mimetype": "text/x-python",
   "name": "python",
   "nbconvert_exporter": "python",
   "pygments_lexer": "ipython3",
   "version": "3.6.8"
  }
 },
 "nbformat": 4,
 "nbformat_minor": 2
}
