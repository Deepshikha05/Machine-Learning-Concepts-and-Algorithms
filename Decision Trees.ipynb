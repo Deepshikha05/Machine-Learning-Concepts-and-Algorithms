{
 "cells": [
  {
   "cell_type": "markdown",
   "metadata": {},
   "source": [
    "- A decision tree is a flowchart-like tree structure where an internal node represents feature(or attribute), the branch represents a decision rule, and each leaf node represents the outcome. \n",
    "- The topmost node in a decision tree is known as the root node. \n",
    "- It learns to partition on the basis of the attribute value.\n",
    "- It partitions the tree in recursively manner call __recursive partitioning__. \n",
    "- This flowchart-like structure helps you in decision making. \n",
    "\n",
    "- Decision Tree is a white box type of ML algorithm. \n",
    "- It shares internal decision-making logic, which is not available in the black box type of algorithms such as Neural Network. \n",
    "- Its training time is faster compared to the neural network algorithm. \n",
    "- The time complexity of decision trees is a function of the number of records and number of attributes in the given data. \n",
    "- The decision tree is a distribution-free or non-parametric method, which does not depend upon probability distribution assumptions. \n",
    "- Decision trees can handle high dimensional data with good accuracy.\n",
    "\n",
    "\n",
    "The basic idea behind any decision tree algorithm is as follows:\n",
    "\n",
    "1. Select the best attribute using Attribute Selection Measures(ASM) to split the records.\n",
    "2. Make that attribute a decision node and breaks the dataset into smaller subsets.\n",
    "3. Starts tree building by repeating this process recursively for each child until one of the condition will match:\n",
    "    1. All the tuples belong to the same attribute value.\n",
    "    2. There are no more remaining attributes.\n",
    "    3. There are no more instances.\n",
    "    \n",
    "    \n",
    "<img src=\"images/decision_tress2.jpeg\">"
   ]
  },
  {
   "cell_type": "markdown",
   "metadata": {},
   "source": [
    "### Attribute Selection Measures\n",
    "\n",
    "Attribute selection measure is a heuristic for selecting the splitting criterion that partition data into the best possible manner. It is also known as splitting rules because it helps us to determine breakpoints for tuples on a given node. ASM provides a rank to each feature(or attribute) by explaining the given dataset. Best score attribute will be selected as a splitting attribute. In the case of a continuous-valued attribute, split points for branches also need to define. Most popular selection measures are Information Gain, Gain Ratio, and Gini Index.\n",
    "\n",
    "__Entropy__: Measure of disorder or measure of impurity. \n",
    "<img src=\"images/entropy.png\">\n",
    "\n",
    "Where ‘Pi’ is simply the frequentist probability of an element/class ‘i’ in our data.\n",
    "\n",
    "Example, let’s say we only have two classes , a positive class and a negative class. Therefore ‘i’ here could be either + or (-). So if we had a total of 100 data points in our dataset with 30 belonging to the positive class and 70 belonging to the negative class then ‘P+’ would be 3/10 and ‘P-’ would be 7/10. Pretty straightforward.\n",
    "If I was to calculate the entropy of my classes in this example using the formula above. Here’s what I would get.\n",
    "\n",
    "<img src=\"images/entropy1.png\" style=\"width: 400px;\"/>\n",
    "\n",
    "0.88 is considered a high entropy , a high level of disorder ( meaning low level of purity). Entropy is measured between 0 and 1.(Depending on the number of classes in your dataset, entropy can be greater than 1 but it means the same thing , a very high level of disorder.)\n",
    "\n",
    "- Does it matter why entropy is measured using log base 2 or why entropy is measured between 0 and 1 and not some other range? No. It’s just a metric. It’s not important to know how it came to be. It’s important to know how to read it and what it tells us, which we just did above. Entropy is a measure of disorder or uncertainty and the goal of machine learning models and Data Scientists in general is to reduce uncertainty.\n",
    "\n",
    "\n",
    "\n",
    "__1. Information Gain__:Shannon invented the concept of entropy, which measures the impurity of the input set. In physics and mathematics, entropy referred as the randomness or the impurity in the system. In information theory, it refers to the impurity in a group of examples. Information gain is the decrease in entropy. Information gain computes the difference between entropy before split and average entropy after split of the dataset based on given attribute values. ID3 (Iterative Dichotomiser) decision tree algorithm uses information gain.\n",
    "\n",
    "<img src=\"images/info_gain4.png\" style=\"width: 400px;\"/>\n",
    "\n",
    "The attribute A with the highest information gain, Gain(A), is chosen as the splitting attribute at node N().\n",
    "\n",
    "\n",
    "__2. Gain Ration__:Information gain is biased for the attribute with many outcomes. It means it prefers the attribute with a large number of distinct values. For instance, consider an attribute with a unique identifier such as customer_ID has zero info(D) because of pure partition. This maximizes the information gain and creates useless partitioning.\n",
    "\n",
    "C4.5, an improvement of ID3, uses an extension to information gain known as the gain ratio. Gain ratio handles the issue of bias by normalizing the information gain using Split Info. Java implementation of the C4.5 algorithm is known as J48, which is available in WEKA data mining tool.\n",
    "\n",
    "<img src=\"images/gain_ratio1.png\">\n",
    "Where,\n",
    "\n",
    "- |Dj|/|D| acts as the weight of the jth partition.\n",
    "- v is the number of discrete values in attribute A.\n",
    "The gain ratio can be defined as:\n",
    "<img src=\"images/gain_ratio2.png\">\n",
    "\n",
    "The attribute with the highest gain ratio is chosen as the splitting attribute"
   ]
  },
  {
   "cell_type": "code",
   "execution_count": null,
   "metadata": {},
   "outputs": [],
   "source": []
  }
 ],
 "metadata": {
  "kernelspec": {
   "display_name": "Python 3",
   "language": "python",
   "name": "python3"
  },
  "language_info": {
   "codemirror_mode": {
    "name": "ipython",
    "version": 3
   },
   "file_extension": ".py",
   "mimetype": "text/x-python",
   "name": "python",
   "nbconvert_exporter": "python",
   "pygments_lexer": "ipython3",
   "version": "3.6.9"
  }
 },
 "nbformat": 4,
 "nbformat_minor": 2
}
